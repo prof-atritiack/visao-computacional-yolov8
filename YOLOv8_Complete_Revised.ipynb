{
  "cells": [
    {
      "cell_type": "markdown",
      "metadata": {
        "id": "view-in-github",
        "colab_type": "text"
      },
      "source": [
        "<a href=\"https://colab.research.google.com/github/prof-atritiack/visao-computacional-yolov8/blob/main/YOLOv8_Complete_Revised.ipynb\" target=\"_parent\"><img src=\"https://colab.research.google.com/assets/colab-badge.svg\" alt=\"Open In Colab\"/></a>"
      ]
    },
    {
      "cell_type": "markdown",
      "id": "cc14296c",
      "metadata": {
        "id": "cc14296c"
      },
      "source": [
        "\n",
        "# YOLOv8 - Detecção e Segmentação\n",
        "\n",
        "Este notebook reúne em um único arquivo diferentes exemplos de uso do **YOLOv8 (Ultralytics)**:\n",
        "\n",
        "1. Introdução ao YOLOv8 (primeiros testes).  \n",
        "2. Segmentação de imagens.  \n",
        "3. Detecção de objetos em vídeos.  \n",
        "4. Segmentação em vídeos.  \n",
        "\n",
        "⚠️ **Observação importante**  \n",
        "- Certifique-se de que os arquivos de imagens e vídeos estejam corretamente carregados no ambiente.  \n",
        "- Se estiver utilizando o Google Colab, habilite GPU para melhor desempenho.  \n"
      ]
    },
    {
      "cell_type": "markdown",
      "id": "29518db1",
      "metadata": {
        "id": "29518db1"
      },
      "source": [
        "**YOLOv8** é um novo modelo de visão computacional de última geração construído pela Ultralytics. O modelo YOLOv8 contém suporte pronto para uso para tarefas de detecção, classificação e segmentação de objetos, acessível por meio de um pacote Python, bem como uma interface de linha de comando.\n",
        "\n",
        "Fonte: https://yolov8.com/\n",
        "\n",
        "\n",
        "\n",
        "Documentação e modelos do YOLOv8:\n",
        "\n",
        "https://github.com/ultralytics/ultralytics\n",
        "\n",
        "\n",
        "\n",
        "Sugestão de leitura:\n",
        "\n",
        "https://iaexpert.academy/2020/10/13/deteccao-de-objetos-com-yolo-uma-abordagem-moderna/?doing_wp_cron=1696367994.9827990531921386718750"
      ]
    },
    {
      "cell_type": "markdown",
      "id": "35190c3d",
      "metadata": {
        "id": "35190c3d"
      },
      "source": [
        "Instalação dos pacotes e das bibliotecas do YOLOv8"
      ]
    },
    {
      "cell_type": "code",
      "execution_count": null,
      "id": "1ce99121",
      "metadata": {
        "id": "1ce99121"
      },
      "outputs": [],
      "source": [
        "# Instalando a biblioteca do YOLOv8\n",
        "!pip install ultralytics"
      ]
    },
    {
      "cell_type": "code",
      "execution_count": null,
      "id": "04139a61",
      "metadata": {
        "id": "04139a61"
      },
      "outputs": [],
      "source": [
        "# Importando o pacote ultralytics\n",
        "import ultralytics"
      ]
    },
    {
      "cell_type": "code",
      "execution_count": null,
      "id": "c09a6f10",
      "metadata": {
        "id": "c09a6f10"
      },
      "outputs": [],
      "source": [
        "# Importando o pacote Pytorch\n",
        "# Documentação: https://pytorch.org/\n",
        "\n",
        "import torch"
      ]
    },
    {
      "cell_type": "code",
      "execution_count": null,
      "id": "60488001",
      "metadata": {
        "id": "60488001"
      },
      "outputs": [],
      "source": [
        "# Importando as demais bibliotecas\n",
        "import cv2\n",
        "from google.colab.patches import cv2_imshow"
      ]
    },
    {
      "cell_type": "markdown",
      "id": "c968a2fd",
      "metadata": {
        "id": "c968a2fd"
      },
      "source": [
        "## Realizando a detecção\n",
        "\n",
        "A forma mais rápida de executar a deteçcão é através da CLI, conforme pode ver abaixo a sintaxe.\n",
        "\n",
        "Os parâmetros:\n",
        "* **task** - tarefa, podendo ser detecção, segmentação ou classificação\n",
        "* **model** - o modelo que queremos usar. São disponibilizados 5 modelos: YOLOv8n (nano), YOLOv8s (small), YOLOv8m (medium), YOLOv8l (large), YOLOv8x (extra large). Nano é o mais rápido e o menor (menos pesado para rodar), enquanto que o Extra Large (YOLOv8x) é o mais preciso porém mais pesado para rodar, portanto será mais lento.\n",
        "  Para o valor desse parâmetro, basta informar o nome e ao lado .pt pois é a extensão do modelo treinado em pytorch.\n",
        "\n",
        "* **mode** - basicamente é o que queremos com o comando. Queremos fazer a detecção/inferência/predição, portanto deixe =predict. Valores aceitos: [train, val, predict, export]\n",
        "\n",
        "* **conf** - o limiar (threshold) que usaremos para filtrar detecções \"fracas\". Se a confiança estiver abaixo desse valor, não será considerada. Por padrão podemos configurar com um limiar bem baixo (ex: 0.25) e depois aumentar, caso verifique que detectou incorretamente algum objeto.  \n",
        "* **source** - a imagem ou vídeo que queremos fazer a detecção."
      ]
    },
    {
      "cell_type": "code",
      "execution_count": null,
      "id": "1650e4bb",
      "metadata": {
        "id": "1650e4bb"
      },
      "outputs": [],
      "source": [
        "!yolo task=detect mode=predict model=yolov8n.pt conf=0.25 source='' save=True"
      ]
    },
    {
      "cell_type": "markdown",
      "id": "e35b6e5f",
      "metadata": {
        "id": "e35b6e5f"
      },
      "source": [
        "**Importante:**\n",
        "- Observe na saída da célula acima que o resultado da detecção será salvo na pasta 'runs/detect/predict/'\n",
        "- Atenção ao número do 'predict' gerado para passar corretamente o nome na célula abaixo."
      ]
    },
    {
      "cell_type": "code",
      "execution_count": null,
      "id": "82cf3a44",
      "metadata": {
        "id": "82cf3a44"
      },
      "outputs": [],
      "source": [
        "resultado = cv2.imread('')\n",
        "cv2_imshow(resultado)"
      ]
    },
    {
      "cell_type": "code",
      "execution_count": null,
      "id": "efff2e3e",
      "metadata": {
        "id": "efff2e3e"
      },
      "outputs": [],
      "source": [
        "# Detecção a partir de arquivo externo:\n",
        "!yolo task=detect mode=predict model=yolov8n.pt conf=0.25 source='https://ultralytics.com/images/zidane.jpg' save=True"
      ]
    },
    {
      "cell_type": "code",
      "execution_count": null,
      "id": "5ac5be29",
      "metadata": {
        "id": "5ac5be29"
      },
      "outputs": [],
      "source": [
        "resultado = cv2.imread('/content/runs/detect/predict2/zidane.jpg')\n",
        "cv2_imshow(resultado)"
      ]
    },
    {
      "cell_type": "code",
      "execution_count": null,
      "id": "b5c2024f",
      "metadata": {
        "id": "b5c2024f"
      },
      "outputs": [],
      "source": [
        "!yolo task=detect mode=predict model=yolov8n.pt conf=0.4 source='italia.jpg' save=True"
      ]
    },
    {
      "cell_type": "code",
      "execution_count": null,
      "id": "c36a6960",
      "metadata": {
        "id": "c36a6960"
      },
      "outputs": [],
      "source": [
        "resultado = cv2.imread('/content/runs/detect/predict3/italia.jpg')\n",
        "cv2_imshow(resultado)"
      ]
    },
    {
      "cell_type": "code",
      "execution_count": null,
      "id": "5e862089",
      "metadata": {
        "id": "5e862089"
      },
      "outputs": [],
      "source": [
        "!yolo task=detect mode=predict model=yolov8n.pt conf=0.57 source='italia.jpg' save=True"
      ]
    },
    {
      "cell_type": "code",
      "execution_count": null,
      "id": "225733c7",
      "metadata": {
        "id": "225733c7"
      },
      "outputs": [],
      "source": [
        "resultado = cv2.imread('/content/runs/detect/predict4/italia.jpg')\n",
        "cv2_imshow(resultado)"
      ]
    },
    {
      "cell_type": "markdown",
      "id": "9fb0fe99",
      "metadata": {
        "id": "9fb0fe99"
      },
      "source": [
        "Segmentação de Imagens"
      ]
    },
    {
      "cell_type": "code",
      "execution_count": null,
      "id": "96f24c67",
      "metadata": {
        "id": "96f24c67"
      },
      "outputs": [],
      "source": [
        "# Instalando a biblioteca do YOLOv8\n",
        "!pip install ultralytics"
      ]
    },
    {
      "cell_type": "code",
      "execution_count": null,
      "id": "82b9223a",
      "metadata": {
        "id": "82b9223a"
      },
      "outputs": [],
      "source": [
        "# Importando o pacote ultralytics\n",
        "import ultralytics"
      ]
    },
    {
      "cell_type": "code",
      "execution_count": null,
      "id": "120f3ecf",
      "metadata": {
        "id": "120f3ecf"
      },
      "outputs": [],
      "source": [
        "# Importando as demais bibliotecas\n",
        "import cv2\n",
        "import matplotlib.pyplot as plt\n",
        "import os\n",
        "from PIL import Image\n",
        "from google.colab.patches import cv2_imshow"
      ]
    },
    {
      "cell_type": "code",
      "execution_count": null,
      "id": "ded1f93a",
      "metadata": {
        "id": "ded1f93a"
      },
      "outputs": [],
      "source": [
        "!yolo task=segment mode=predict model=yolov8m-seg.pt conf=0.5 source='/content/cachorros.jpg' save=True"
      ]
    },
    {
      "cell_type": "code",
      "execution_count": null,
      "id": "f9fa7819",
      "metadata": {
        "id": "f9fa7819"
      },
      "outputs": [],
      "source": [
        "resultado = cv2.imread('/content/runs/segment/predict2/cachorros.jpg')\n",
        "cv2_imshow(resultado)"
      ]
    },
    {
      "cell_type": "markdown",
      "id": "7c3e8596",
      "metadata": {
        "id": "7c3e8596"
      },
      "source": [
        "Detecção em vídeos (CLI)"
      ]
    },
    {
      "cell_type": "code",
      "execution_count": null,
      "id": "21a97047",
      "metadata": {
        "colab": {
          "base_uri": "https://localhost:8080/"
        },
        "id": "21a97047",
        "outputId": "1521fbdc-8ff0-4687-8719-8def9443b090"
      },
      "outputs": [
        {
          "name": "stdout",
          "output_type": "stream",
          "text": [
            "Collecting ultralytics\n",
            "  Downloading ultralytics-8.2.91-py3-none-any.whl.metadata (41 kB)\n",
            "\u001b[?25l     \u001b[90m━━━━━━━━━━━━━━━━━━━━━━━━━━━━━━━━━━━━━━━━\u001b[0m \u001b[32m0.0/41.9 kB\u001b[0m \u001b[31m?\u001b[0m eta \u001b[36m-:--:--\u001b[0m\r",
            "\u001b[2K     \u001b[90m━━━━━━━━━━━━━━━━━━━━━━━━━━━━━━━━━━━━━━━━\u001b[0m \u001b[32m41.9/41.9 kB\u001b[0m \u001b[31m2.2 MB/s\u001b[0m eta \u001b[36m0:00:00\u001b[0m\n",
            "\u001b[?25hRequirement already satisfied: numpy<2.0.0,>=1.23.0 in /usr/local/lib/python3.10/dist-packages (from ultralytics) (1.26.4)\n",
            "Requirement already satisfied: matplotlib>=3.3.0 in /usr/local/lib/python3.10/dist-packages (from ultralytics) (3.7.1)\n",
            "Requirement already satisfied: opencv-python>=4.6.0 in /usr/local/lib/python3.10/dist-packages (from ultralytics) (4.10.0.84)\n",
            "Requirement already satisfied: pillow>=7.1.2 in /usr/local/lib/python3.10/dist-packages (from ultralytics) (9.4.0)\n",
            "Requirement already satisfied: pyyaml>=5.3.1 in /usr/local/lib/python3.10/dist-packages (from ultralytics) (6.0.2)\n",
            "Requirement already satisfied: requests>=2.23.0 in /usr/local/lib/python3.10/dist-packages (from ultralytics) (2.32.3)\n",
            "Requirement already satisfied: scipy>=1.4.1 in /usr/local/lib/python3.10/dist-packages (from ultralytics) (1.13.1)\n",
            "Requirement already satisfied: torch>=1.8.0 in /usr/local/lib/python3.10/dist-packages (from ultralytics) (2.4.0+cu121)\n",
            "Requirement already satisfied: torchvision>=0.9.0 in /usr/local/lib/python3.10/dist-packages (from ultralytics) (0.19.0+cu121)\n",
            "Requirement already satisfied: tqdm>=4.64.0 in /usr/local/lib/python3.10/dist-packages (from ultralytics) (4.66.5)\n",
            "Requirement already satisfied: psutil in /usr/local/lib/python3.10/dist-packages (from ultralytics) (5.9.5)\n",
            "Requirement already satisfied: py-cpuinfo in /usr/local/lib/python3.10/dist-packages (from ultralytics) (9.0.0)\n",
            "Requirement already satisfied: pandas>=1.1.4 in /usr/local/lib/python3.10/dist-packages (from ultralytics) (2.1.4)\n",
            "Requirement already satisfied: seaborn>=0.11.0 in /usr/local/lib/python3.10/dist-packages (from ultralytics) (0.13.1)\n",
            "Collecting ultralytics-thop>=2.0.0 (from ultralytics)\n",
            "  Downloading ultralytics_thop-2.0.6-py3-none-any.whl.metadata (9.1 kB)\n",
            "Requirement already satisfied: contourpy>=1.0.1 in /usr/local/lib/python3.10/dist-packages (from matplotlib>=3.3.0->ultralytics) (1.3.0)\n",
            "Requirement already satisfied: cycler>=0.10 in /usr/local/lib/python3.10/dist-packages (from matplotlib>=3.3.0->ultralytics) (0.12.1)\n",
            "Requirement already satisfied: fonttools>=4.22.0 in /usr/local/lib/python3.10/dist-packages (from matplotlib>=3.3.0->ultralytics) (4.53.1)\n",
            "Requirement already satisfied: kiwisolver>=1.0.1 in /usr/local/lib/python3.10/dist-packages (from matplotlib>=3.3.0->ultralytics) (1.4.5)\n",
            "Requirement already satisfied: packaging>=20.0 in /usr/local/lib/python3.10/dist-packages (from matplotlib>=3.3.0->ultralytics) (24.1)\n",
            "Requirement already satisfied: pyparsing>=2.3.1 in /usr/local/lib/python3.10/dist-packages (from matplotlib>=3.3.0->ultralytics) (3.1.4)\n",
            "Requirement already satisfied: python-dateutil>=2.7 in /usr/local/lib/python3.10/dist-packages (from matplotlib>=3.3.0->ultralytics) (2.8.2)\n",
            "Requirement already satisfied: pytz>=2020.1 in /usr/local/lib/python3.10/dist-packages (from pandas>=1.1.4->ultralytics) (2024.1)\n",
            "Requirement already satisfied: tzdata>=2022.1 in /usr/local/lib/python3.10/dist-packages (from pandas>=1.1.4->ultralytics) (2024.1)\n",
            "Requirement already satisfied: charset-normalizer<4,>=2 in /usr/local/lib/python3.10/dist-packages (from requests>=2.23.0->ultralytics) (3.3.2)\n",
            "Requirement already satisfied: idna<4,>=2.5 in /usr/local/lib/python3.10/dist-packages (from requests>=2.23.0->ultralytics) (3.8)\n",
            "Requirement already satisfied: urllib3<3,>=1.21.1 in /usr/local/lib/python3.10/dist-packages (from requests>=2.23.0->ultralytics) (2.0.7)\n",
            "Requirement already satisfied: certifi>=2017.4.17 in /usr/local/lib/python3.10/dist-packages (from requests>=2.23.0->ultralytics) (2024.8.30)\n",
            "Requirement already satisfied: filelock in /usr/local/lib/python3.10/dist-packages (from torch>=1.8.0->ultralytics) (3.15.4)\n",
            "Requirement already satisfied: typing-extensions>=4.8.0 in /usr/local/lib/python3.10/dist-packages (from torch>=1.8.0->ultralytics) (4.12.2)\n",
            "Requirement already satisfied: sympy in /usr/local/lib/python3.10/dist-packages (from torch>=1.8.0->ultralytics) (1.13.2)\n",
            "Requirement already satisfied: networkx in /usr/local/lib/python3.10/dist-packages (from torch>=1.8.0->ultralytics) (3.3)\n",
            "Requirement already satisfied: jinja2 in /usr/local/lib/python3.10/dist-packages (from torch>=1.8.0->ultralytics) (3.1.4)\n",
            "Requirement already satisfied: fsspec in /usr/local/lib/python3.10/dist-packages (from torch>=1.8.0->ultralytics) (2024.6.1)\n",
            "Requirement already satisfied: six>=1.5 in /usr/local/lib/python3.10/dist-packages (from python-dateutil>=2.7->matplotlib>=3.3.0->ultralytics) (1.16.0)\n",
            "Requirement already satisfied: MarkupSafe>=2.0 in /usr/local/lib/python3.10/dist-packages (from jinja2->torch>=1.8.0->ultralytics) (2.1.5)\n",
            "Requirement already satisfied: mpmath<1.4,>=1.1.0 in /usr/local/lib/python3.10/dist-packages (from sympy->torch>=1.8.0->ultralytics) (1.3.0)\n",
            "Downloading ultralytics-8.2.91-py3-none-any.whl (871 kB)\n",
            "\u001b[2K   \u001b[90m━━━━━━━━━━━━━━━━━━━━━━━━━━━━━━━━━━━━━━━━\u001b[0m \u001b[32m871.8/871.8 kB\u001b[0m \u001b[31m24.4 MB/s\u001b[0m eta \u001b[36m0:00:00\u001b[0m\n",
            "\u001b[?25hDownloading ultralytics_thop-2.0.6-py3-none-any.whl (26 kB)\n",
            "Installing collected packages: ultralytics-thop, ultralytics\n",
            "Successfully installed ultralytics-8.2.91 ultralytics-thop-2.0.6\n"
          ]
        }
      ],
      "source": [
        "# Instalando a biblioteca do YOLOv8\n",
        "!pip install ultralytics"
      ]
    },
    {
      "cell_type": "code",
      "execution_count": null,
      "id": "158f5073",
      "metadata": {
        "id": "158f5073"
      },
      "outputs": [],
      "source": [
        "# Importando o pacote ultralytics\n",
        "import ultralytics"
      ]
    },
    {
      "cell_type": "code",
      "execution_count": null,
      "id": "64470925",
      "metadata": {
        "id": "64470925"
      },
      "outputs": [],
      "source": [
        "# Importando o pacote Pytorch\n",
        "import torch"
      ]
    },
    {
      "cell_type": "code",
      "execution_count": null,
      "id": "10b454da",
      "metadata": {
        "id": "10b454da"
      },
      "outputs": [],
      "source": [
        "# Importando as demais bibliotecas\n",
        "import cv2\n",
        "import matplotlib.pyplot as plt\n",
        "import os\n",
        "from PIL import Image\n",
        "from google.colab.patches import cv2_imshow"
      ]
    },
    {
      "cell_type": "code",
      "execution_count": null,
      "id": "122f78e3",
      "metadata": {
        "colab": {
          "base_uri": "https://localhost:8080/"
        },
        "id": "122f78e3",
        "outputId": "8aa4b29f-e29f-40cb-a818-b3759b359eaa"
      },
      "outputs": [
        {
          "name": "stdout",
          "output_type": "stream",
          "text": [
            "Ultralytics YOLOv8.2.91 🚀 Python-3.10.12 torch-2.4.0+cu121 CUDA:0 (Tesla T4, 15102MiB)\n",
            "YOLOv8m summary (fused): 218 layers, 25,886,080 parameters, 0 gradients, 78.9 GFLOPs\n",
            "\n",
            "video 1/1 (frame 1/349) /content/video_rua01.mp4: 384x640 1 person, 2 cars, 146.7ms\n",
            "video 1/1 (frame 2/349) /content/video_rua01.mp4: 384x640 2 persons, 2 cars, 39.6ms\n",
            "video 1/1 (frame 3/349) /content/video_rua01.mp4: 384x640 2 persons, 1 car, 25.4ms\n",
            "video 1/1 (frame 4/349) /content/video_rua01.mp4: 384x640 3 persons, 1 car, 25.4ms\n",
            "video 1/1 (frame 5/349) /content/video_rua01.mp4: 384x640 4 persons, 1 car, 25.4ms\n",
            "video 1/1 (frame 6/349) /content/video_rua01.mp4: 384x640 4 persons, 1 car, 25.4ms\n",
            "video 1/1 (frame 7/349) /content/video_rua01.mp4: 384x640 6 persons, 1 car, 25.4ms\n",
            "video 1/1 (frame 8/349) /content/video_rua01.mp4: 384x640 7 persons, 1 car, 25.4ms\n",
            "video 1/1 (frame 9/349) /content/video_rua01.mp4: 384x640 8 persons, 1 car, 25.4ms\n",
            "video 1/1 (frame 10/349) /content/video_rua01.mp4: 384x640 8 persons, 1 car, 24.8ms\n",
            "video 1/1 (frame 11/349) /content/video_rua01.mp4: 384x640 8 persons, 1 car, 24.3ms\n",
            "video 1/1 (frame 12/349) /content/video_rua01.mp4: 384x640 8 persons, 2 cars, 24.3ms\n",
            "video 1/1 (frame 13/349) /content/video_rua01.mp4: 384x640 7 persons, 2 cars, 24.3ms\n",
            "video 1/1 (frame 14/349) /content/video_rua01.mp4: 384x640 7 persons, 2 cars, 21.6ms\n",
            "video 1/1 (frame 15/349) /content/video_rua01.mp4: 384x640 8 persons, 2 cars, 21.6ms\n",
            "video 1/1 (frame 16/349) /content/video_rua01.mp4: 384x640 7 persons, 2 cars, 21.6ms\n",
            "video 1/1 (frame 17/349) /content/video_rua01.mp4: 384x640 7 persons, 3 cars, 21.6ms\n",
            "video 1/1 (frame 18/349) /content/video_rua01.mp4: 384x640 7 persons, 3 cars, 21.6ms\n",
            "video 1/1 (frame 19/349) /content/video_rua01.mp4: 384x640 7 persons, 3 cars, 21.6ms\n",
            "video 1/1 (frame 20/349) /content/video_rua01.mp4: 384x640 7 persons, 3 cars, 21.6ms\n",
            "video 1/1 (frame 21/349) /content/video_rua01.mp4: 384x640 6 persons, 3 cars, 21.7ms\n",
            "video 1/1 (frame 22/349) /content/video_rua01.mp4: 384x640 6 persons, 3 cars, 21.6ms\n",
            "video 1/1 (frame 23/349) /content/video_rua01.mp4: 384x640 7 persons, 3 cars, 21.6ms\n",
            "video 1/1 (frame 24/349) /content/video_rua01.mp4: 384x640 7 persons, 3 cars, 21.6ms\n",
            "video 1/1 (frame 25/349) /content/video_rua01.mp4: 384x640 7 persons, 3 cars, 21.6ms\n",
            "video 1/1 (frame 26/349) /content/video_rua01.mp4: 384x640 6 persons, 3 cars, 22.3ms\n",
            "video 1/1 (frame 27/349) /content/video_rua01.mp4: 384x640 6 persons, 3 cars, 21.6ms\n",
            "video 1/1 (frame 28/349) /content/video_rua01.mp4: 384x640 6 persons, 3 cars, 21.6ms\n",
            "video 1/1 (frame 29/349) /content/video_rua01.mp4: 384x640 6 persons, 3 cars, 21.6ms\n",
            "video 1/1 (frame 30/349) /content/video_rua01.mp4: 384x640 6 persons, 3 cars, 21.6ms\n",
            "video 1/1 (frame 31/349) /content/video_rua01.mp4: 384x640 6 persons, 3 cars, 21.3ms\n",
            "video 1/1 (frame 32/349) /content/video_rua01.mp4: 384x640 7 persons, 3 cars, 22.8ms\n",
            "video 1/1 (frame 33/349) /content/video_rua01.mp4: 384x640 7 persons, 2 cars, 21.2ms\n",
            "video 1/1 (frame 34/349) /content/video_rua01.mp4: 384x640 7 persons, 2 cars, 21.2ms\n",
            "video 1/1 (frame 35/349) /content/video_rua01.mp4: 384x640 7 persons, 2 cars, 21.2ms\n",
            "video 1/1 (frame 36/349) /content/video_rua01.mp4: 384x640 8 persons, 2 cars, 21.2ms\n",
            "video 1/1 (frame 37/349) /content/video_rua01.mp4: 384x640 7 persons, 2 cars, 21.2ms\n",
            "video 1/1 (frame 38/349) /content/video_rua01.mp4: 384x640 8 persons, 2 cars, 20.8ms\n",
            "video 1/1 (frame 39/349) /content/video_rua01.mp4: 384x640 8 persons, 2 cars, 20.8ms\n",
            "video 1/1 (frame 40/349) /content/video_rua01.mp4: 384x640 7 persons, 2 cars, 20.9ms\n",
            "video 1/1 (frame 41/349) /content/video_rua01.mp4: 384x640 7 persons, 2 cars, 20.9ms\n",
            "video 1/1 (frame 42/349) /content/video_rua01.mp4: 384x640 6 persons, 2 cars, 20.9ms\n",
            "video 1/1 (frame 43/349) /content/video_rua01.mp4: 384x640 6 persons, 2 cars, 20.9ms\n",
            "video 1/1 (frame 44/349) /content/video_rua01.mp4: 384x640 7 persons, 2 cars, 20.9ms\n",
            "video 1/1 (frame 45/349) /content/video_rua01.mp4: 384x640 7 persons, 2 cars, 19.8ms\n",
            "video 1/1 (frame 46/349) /content/video_rua01.mp4: 384x640 7 persons, 2 cars, 19.8ms\n",
            "video 1/1 (frame 47/349) /content/video_rua01.mp4: 384x640 6 persons, 2 cars, 19.8ms\n",
            "video 1/1 (frame 48/349) /content/video_rua01.mp4: 384x640 7 persons, 2 cars, 19.9ms\n",
            "video 1/1 (frame 49/349) /content/video_rua01.mp4: 384x640 6 persons, 2 cars, 19.8ms\n",
            "video 1/1 (frame 50/349) /content/video_rua01.mp4: 384x640 6 persons, 2 cars, 20.4ms\n",
            "video 1/1 (frame 51/349) /content/video_rua01.mp4: 384x640 7 persons, 2 cars, 19.9ms\n",
            "video 1/1 (frame 52/349) /content/video_rua01.mp4: 384x640 7 persons, 2 cars, 19.8ms\n",
            "video 1/1 (frame 53/349) /content/video_rua01.mp4: 384x640 8 persons, 2 cars, 19.8ms\n",
            "video 1/1 (frame 54/349) /content/video_rua01.mp4: 384x640 8 persons, 2 cars, 19.9ms\n",
            "video 1/1 (frame 55/349) /content/video_rua01.mp4: 384x640 8 persons, 2 cars, 19.9ms\n",
            "video 1/1 (frame 56/349) /content/video_rua01.mp4: 384x640 8 persons, 2 cars, 19.8ms\n",
            "video 1/1 (frame 57/349) /content/video_rua01.mp4: 384x640 8 persons, 2 cars, 19.9ms\n",
            "video 1/1 (frame 58/349) /content/video_rua01.mp4: 384x640 6 persons, 2 cars, 19.8ms\n",
            "video 1/1 (frame 59/349) /content/video_rua01.mp4: 384x640 6 persons, 2 cars, 19.8ms\n",
            "video 1/1 (frame 60/349) /content/video_rua01.mp4: 384x640 6 persons, 2 cars, 19.8ms\n",
            "video 1/1 (frame 61/349) /content/video_rua01.mp4: 384x640 6 persons, 2 cars, 19.8ms\n",
            "video 1/1 (frame 62/349) /content/video_rua01.mp4: 384x640 6 persons, 2 cars, 19.8ms\n",
            "video 1/1 (frame 63/349) /content/video_rua01.mp4: 384x640 6 persons, 2 cars, 19.9ms\n",
            "video 1/1 (frame 64/349) /content/video_rua01.mp4: 384x640 6 persons, 2 cars, 19.9ms\n",
            "video 1/1 (frame 65/349) /content/video_rua01.mp4: 384x640 6 persons, 2 cars, 19.9ms\n",
            "video 1/1 (frame 66/349) /content/video_rua01.mp4: 384x640 6 persons, 2 cars, 19.9ms\n",
            "video 1/1 (frame 67/349) /content/video_rua01.mp4: 384x640 6 persons, 2 cars, 19.9ms\n",
            "video 1/1 (frame 68/349) /content/video_rua01.mp4: 384x640 6 persons, 2 cars, 19.8ms\n",
            "video 1/1 (frame 69/349) /content/video_rua01.mp4: 384x640 6 persons, 2 cars, 19.8ms\n",
            "video 1/1 (frame 70/349) /content/video_rua01.mp4: 384x640 6 persons, 2 cars, 19.9ms\n",
            "video 1/1 (frame 71/349) /content/video_rua01.mp4: 384x640 7 persons, 2 cars, 19.9ms\n",
            "video 1/1 (frame 72/349) /content/video_rua01.mp4: 384x640 9 persons, 2 cars, 19.9ms\n",
            "video 1/1 (frame 73/349) /content/video_rua01.mp4: 384x640 9 persons, 2 cars, 19.9ms\n",
            "video 1/1 (frame 74/349) /content/video_rua01.mp4: 384x640 9 persons, 2 cars, 19.8ms\n",
            "video 1/1 (frame 75/349) /content/video_rua01.mp4: 384x640 9 persons, 2 cars, 19.9ms\n",
            "video 1/1 (frame 76/349) /content/video_rua01.mp4: 384x640 9 persons, 2 cars, 19.9ms\n",
            "video 1/1 (frame 77/349) /content/video_rua01.mp4: 384x640 8 persons, 2 cars, 19.9ms\n",
            "video 1/1 (frame 78/349) /content/video_rua01.mp4: 384x640 9 persons, 2 cars, 19.8ms\n",
            "video 1/1 (frame 79/349) /content/video_rua01.mp4: 384x640 9 persons, 2 cars, 19.9ms\n",
            "video 1/1 (frame 80/349) /content/video_rua01.mp4: 384x640 8 persons, 2 cars, 19.8ms\n",
            "video 1/1 (frame 81/349) /content/video_rua01.mp4: 384x640 8 persons, 2 cars, 19.8ms\n",
            "video 1/1 (frame 82/349) /content/video_rua01.mp4: 384x640 7 persons, 2 cars, 19.8ms\n",
            "video 1/1 (frame 83/349) /content/video_rua01.mp4: 384x640 8 persons, 2 cars, 19.9ms\n",
            "video 1/1 (frame 84/349) /content/video_rua01.mp4: 384x640 8 persons, 2 cars, 19.9ms\n",
            "video 1/1 (frame 85/349) /content/video_rua01.mp4: 384x640 10 persons, 2 cars, 19.9ms\n",
            "video 1/1 (frame 86/349) /content/video_rua01.mp4: 384x640 8 persons, 2 cars, 19.9ms\n",
            "video 1/1 (frame 87/349) /content/video_rua01.mp4: 384x640 8 persons, 2 cars, 20.3ms\n",
            "video 1/1 (frame 88/349) /content/video_rua01.mp4: 384x640 9 persons, 2 cars, 19.9ms\n",
            "video 1/1 (frame 89/349) /content/video_rua01.mp4: 384x640 9 persons, 2 cars, 19.9ms\n",
            "video 1/1 (frame 90/349) /content/video_rua01.mp4: 384x640 9 persons, 2 cars, 19.9ms\n",
            "video 1/1 (frame 91/349) /content/video_rua01.mp4: 384x640 8 persons, 2 cars, 19.8ms\n",
            "video 1/1 (frame 92/349) /content/video_rua01.mp4: 384x640 8 persons, 2 cars, 19.8ms\n",
            "video 1/1 (frame 93/349) /content/video_rua01.mp4: 384x640 8 persons, 2 cars, 19.8ms\n",
            "video 1/1 (frame 94/349) /content/video_rua01.mp4: 384x640 8 persons, 2 cars, 21.2ms\n",
            "video 1/1 (frame 95/349) /content/video_rua01.mp4: 384x640 8 persons, 2 cars, 21.2ms\n",
            "video 1/1 (frame 96/349) /content/video_rua01.mp4: 384x640 9 persons, 2 cars, 21.2ms\n",
            "video 1/1 (frame 97/349) /content/video_rua01.mp4: 384x640 9 persons, 1 car, 21.2ms\n",
            "video 1/1 (frame 98/349) /content/video_rua01.mp4: 384x640 9 persons, 1 car, 19.9ms\n",
            "video 1/1 (frame 99/349) /content/video_rua01.mp4: 384x640 9 persons, 1 car, 19.9ms\n",
            "video 1/1 (frame 100/349) /content/video_rua01.mp4: 384x640 8 persons, 1 car, 19.9ms\n",
            "video 1/1 (frame 101/349) /content/video_rua01.mp4: 384x640 11 persons, 1 car, 19.8ms\n",
            "video 1/1 (frame 102/349) /content/video_rua01.mp4: 384x640 10 persons, 1 car, 19.8ms\n",
            "video 1/1 (frame 103/349) /content/video_rua01.mp4: 384x640 10 persons, 1 car, 19.8ms\n",
            "video 1/1 (frame 104/349) /content/video_rua01.mp4: 384x640 11 persons, 26.4ms\n",
            "video 1/1 (frame 105/349) /content/video_rua01.mp4: 384x640 11 persons, 1 car, 19.8ms\n",
            "video 1/1 (frame 106/349) /content/video_rua01.mp4: 384x640 10 persons, 19.9ms\n",
            "video 1/1 (frame 107/349) /content/video_rua01.mp4: 384x640 11 persons, 19.8ms\n",
            "video 1/1 (frame 108/349) /content/video_rua01.mp4: 384x640 12 persons, 19.8ms\n",
            "video 1/1 (frame 109/349) /content/video_rua01.mp4: 384x640 9 persons, 19.9ms\n",
            "video 1/1 (frame 110/349) /content/video_rua01.mp4: 384x640 10 persons, 19.9ms\n",
            "video 1/1 (frame 111/349) /content/video_rua01.mp4: 384x640 8 persons, 19.8ms\n",
            "video 1/1 (frame 112/349) /content/video_rua01.mp4: 384x640 7 persons, 19.9ms\n",
            "video 1/1 (frame 113/349) /content/video_rua01.mp4: 384x640 7 persons, 19.9ms\n",
            "video 1/1 (frame 114/349) /content/video_rua01.mp4: 384x640 8 persons, 19.8ms\n",
            "video 1/1 (frame 115/349) /content/video_rua01.mp4: 384x640 6 persons, 19.8ms\n",
            "video 1/1 (frame 116/349) /content/video_rua01.mp4: 384x640 7 persons, 1 car, 19.9ms\n",
            "video 1/1 (frame 117/349) /content/video_rua01.mp4: 384x640 6 persons, 2 cars, 19.9ms\n",
            "video 1/1 (frame 118/349) /content/video_rua01.mp4: 384x640 5 persons, 2 cars, 19.8ms\n",
            "video 1/1 (frame 119/349) /content/video_rua01.mp4: 384x640 5 persons, 2 cars, 19.9ms\n",
            "video 1/1 (frame 120/349) /content/video_rua01.mp4: 384x640 7 persons, 2 cars, 19.9ms\n",
            "video 1/1 (frame 121/349) /content/video_rua01.mp4: 384x640 7 persons, 2 cars, 19.9ms\n",
            "video 1/1 (frame 122/349) /content/video_rua01.mp4: 384x640 9 persons, 2 cars, 19.8ms\n",
            "video 1/1 (frame 123/349) /content/video_rua01.mp4: 384x640 9 persons, 2 cars, 19.5ms\n",
            "video 1/1 (frame 124/349) /content/video_rua01.mp4: 384x640 11 persons, 2 cars, 19.5ms\n",
            "video 1/1 (frame 125/349) /content/video_rua01.mp4: 384x640 11 persons, 2 cars, 19.5ms\n",
            "video 1/1 (frame 126/349) /content/video_rua01.mp4: 384x640 12 persons, 2 cars, 19.6ms\n",
            "video 1/1 (frame 127/349) /content/video_rua01.mp4: 384x640 11 persons, 2 cars, 19.6ms\n",
            "video 1/1 (frame 128/349) /content/video_rua01.mp4: 384x640 12 persons, 2 cars, 19.6ms\n",
            "video 1/1 (frame 129/349) /content/video_rua01.mp4: 384x640 12 persons, 2 cars, 19.5ms\n",
            "video 1/1 (frame 130/349) /content/video_rua01.mp4: 384x640 12 persons, 2 cars, 19.6ms\n",
            "video 1/1 (frame 131/349) /content/video_rua01.mp4: 384x640 11 persons, 2 cars, 19.6ms\n",
            "video 1/1 (frame 132/349) /content/video_rua01.mp4: 384x640 11 persons, 2 cars, 19.6ms\n",
            "video 1/1 (frame 133/349) /content/video_rua01.mp4: 384x640 11 persons, 2 cars, 19.5ms\n",
            "video 1/1 (frame 134/349) /content/video_rua01.mp4: 384x640 11 persons, 2 cars, 19.6ms\n",
            "video 1/1 (frame 135/349) /content/video_rua01.mp4: 384x640 11 persons, 2 cars, 19.5ms\n",
            "video 1/1 (frame 136/349) /content/video_rua01.mp4: 384x640 12 persons, 2 cars, 19.6ms\n",
            "video 1/1 (frame 137/349) /content/video_rua01.mp4: 384x640 12 persons, 2 cars, 19.5ms\n",
            "video 1/1 (frame 138/349) /content/video_rua01.mp4: 384x640 12 persons, 2 cars, 19.6ms\n",
            "video 1/1 (frame 139/349) /content/video_rua01.mp4: 384x640 12 persons, 2 cars, 19.6ms\n",
            "video 1/1 (frame 140/349) /content/video_rua01.mp4: 384x640 12 persons, 2 cars, 19.6ms\n",
            "video 1/1 (frame 141/349) /content/video_rua01.mp4: 384x640 12 persons, 2 cars, 19.6ms\n",
            "video 1/1 (frame 142/349) /content/video_rua01.mp4: 384x640 12 persons, 2 cars, 19.5ms\n",
            "video 1/1 (frame 143/349) /content/video_rua01.mp4: 384x640 12 persons, 2 cars, 19.6ms\n",
            "video 1/1 (frame 144/349) /content/video_rua01.mp4: 384x640 11 persons, 2 cars, 19.5ms\n",
            "video 1/1 (frame 145/349) /content/video_rua01.mp4: 384x640 12 persons, 2 cars, 19.6ms\n",
            "video 1/1 (frame 146/349) /content/video_rua01.mp4: 384x640 13 persons, 2 cars, 19.6ms\n",
            "video 1/1 (frame 147/349) /content/video_rua01.mp4: 384x640 12 persons, 3 cars, 19.5ms\n",
            "video 1/1 (frame 148/349) /content/video_rua01.mp4: 384x640 11 persons, 3 cars, 19.5ms\n",
            "video 1/1 (frame 149/349) /content/video_rua01.mp4: 384x640 10 persons, 3 cars, 19.6ms\n",
            "video 1/1 (frame 150/349) /content/video_rua01.mp4: 384x640 10 persons, 3 cars, 19.5ms\n",
            "video 1/1 (frame 151/349) /content/video_rua01.mp4: 384x640 9 persons, 3 cars, 19.6ms\n",
            "video 1/1 (frame 152/349) /content/video_rua01.mp4: 384x640 9 persons, 3 cars, 19.6ms\n",
            "video 1/1 (frame 153/349) /content/video_rua01.mp4: 384x640 9 persons, 2 cars, 21.0ms\n",
            "video 1/1 (frame 154/349) /content/video_rua01.mp4: 384x640 9 persons, 3 cars, 22.9ms\n",
            "video 1/1 (frame 155/349) /content/video_rua01.mp4: 384x640 9 persons, 3 cars, 1 suitcase, 22.2ms\n",
            "video 1/1 (frame 156/349) /content/video_rua01.mp4: 384x640 8 persons, 3 cars, 21.3ms\n",
            "video 1/1 (frame 157/349) /content/video_rua01.mp4: 384x640 8 persons, 2 cars, 21.2ms\n",
            "video 1/1 (frame 158/349) /content/video_rua01.mp4: 384x640 8 persons, 2 cars, 22.0ms\n",
            "video 1/1 (frame 159/349) /content/video_rua01.mp4: 384x640 8 persons, 2 cars, 22.0ms\n",
            "video 1/1 (frame 160/349) /content/video_rua01.mp4: 384x640 9 persons, 2 cars, 22.5ms\n",
            "video 1/1 (frame 161/349) /content/video_rua01.mp4: 384x640 8 persons, 2 cars, 22.4ms\n",
            "video 1/1 (frame 162/349) /content/video_rua01.mp4: 384x640 8 persons, 2 cars, 23.2ms\n",
            "video 1/1 (frame 163/349) /content/video_rua01.mp4: 384x640 8 persons, 2 cars, 23.3ms\n",
            "video 1/1 (frame 164/349) /content/video_rua01.mp4: 384x640 7 persons, 2 cars, 31.6ms\n",
            "video 1/1 (frame 165/349) /content/video_rua01.mp4: 384x640 8 persons, 2 cars, 23.8ms\n",
            "video 1/1 (frame 166/349) /content/video_rua01.mp4: 384x640 8 persons, 2 cars, 23.8ms\n",
            "video 1/1 (frame 167/349) /content/video_rua01.mp4: 384x640 9 persons, 2 cars, 24.3ms\n",
            "video 1/1 (frame 168/349) /content/video_rua01.mp4: 384x640 9 persons, 2 cars, 24.3ms\n",
            "video 1/1 (frame 169/349) /content/video_rua01.mp4: 384x640 9 persons, 2 cars, 24.9ms\n",
            "video 1/1 (frame 170/349) /content/video_rua01.mp4: 384x640 9 persons, 2 cars, 24.9ms\n",
            "video 1/1 (frame 171/349) /content/video_rua01.mp4: 384x640 9 persons, 2 cars, 25.4ms\n",
            "video 1/1 (frame 172/349) /content/video_rua01.mp4: 384x640 9 persons, 2 cars, 25.4ms\n",
            "video 1/1 (frame 173/349) /content/video_rua01.mp4: 384x640 9 persons, 2 cars, 25.4ms\n",
            "video 1/1 (frame 174/349) /content/video_rua01.mp4: 384x640 9 persons, 2 cars, 25.4ms\n",
            "video 1/1 (frame 175/349) /content/video_rua01.mp4: 384x640 9 persons, 2 cars, 26.2ms\n",
            "video 1/1 (frame 176/349) /content/video_rua01.mp4: 384x640 8 persons, 2 cars, 1 traffic light, 26.4ms\n",
            "video 1/1 (frame 177/349) /content/video_rua01.mp4: 384x640 8 persons, 2 cars, 1 traffic light, 26.0ms\n",
            "video 1/1 (frame 178/349) /content/video_rua01.mp4: 384x640 8 persons, 2 cars, 1 traffic light, 25.4ms\n",
            "video 1/1 (frame 179/349) /content/video_rua01.mp4: 384x640 8 persons, 2 cars, 28.1ms\n",
            "video 1/1 (frame 180/349) /content/video_rua01.mp4: 384x640 7 persons, 3 cars, 26.4ms\n",
            "video 1/1 (frame 181/349) /content/video_rua01.mp4: 384x640 7 persons, 3 cars, 25.4ms\n",
            "video 1/1 (frame 182/349) /content/video_rua01.mp4: 384x640 7 persons, 3 cars, 25.4ms\n",
            "video 1/1 (frame 183/349) /content/video_rua01.mp4: 384x640 8 persons, 3 cars, 25.4ms\n",
            "video 1/1 (frame 184/349) /content/video_rua01.mp4: 384x640 8 persons, 3 cars, 25.4ms\n",
            "video 1/1 (frame 185/349) /content/video_rua01.mp4: 384x640 8 persons, 3 cars, 25.4ms\n",
            "video 1/1 (frame 186/349) /content/video_rua01.mp4: 384x640 7 persons, 3 cars, 1 traffic light, 25.4ms\n",
            "video 1/1 (frame 187/349) /content/video_rua01.mp4: 384x640 7 persons, 3 cars, 25.4ms\n",
            "video 1/1 (frame 188/349) /content/video_rua01.mp4: 384x640 7 persons, 3 cars, 23.3ms\n",
            "video 1/1 (frame 189/349) /content/video_rua01.mp4: 384x640 7 persons, 3 cars, 1 traffic light, 23.3ms\n",
            "video 1/1 (frame 190/349) /content/video_rua01.mp4: 384x640 8 persons, 3 cars, 1 traffic light, 23.3ms\n",
            "video 1/1 (frame 191/349) /content/video_rua01.mp4: 384x640 9 persons, 3 cars, 1 traffic light, 23.3ms\n",
            "video 1/1 (frame 192/349) /content/video_rua01.mp4: 384x640 9 persons, 3 cars, 1 traffic light, 23.3ms\n",
            "video 1/1 (frame 193/349) /content/video_rua01.mp4: 384x640 9 persons, 3 cars, 1 traffic light, 23.3ms\n",
            "video 1/1 (frame 194/349) /content/video_rua01.mp4: 384x640 9 persons, 2 cars, 1 traffic light, 23.3ms\n",
            "video 1/1 (frame 195/349) /content/video_rua01.mp4: 384x640 9 persons, 3 cars, 1 traffic light, 23.4ms\n",
            "video 1/1 (frame 196/349) /content/video_rua01.mp4: 384x640 9 persons, 3 cars, 1 traffic light, 23.3ms\n",
            "video 1/1 (frame 197/349) /content/video_rua01.mp4: 384x640 9 persons, 3 cars, 1 traffic light, 23.3ms\n",
            "video 1/1 (frame 198/349) /content/video_rua01.mp4: 384x640 8 persons, 3 cars, 1 traffic light, 23.4ms\n",
            "video 1/1 (frame 199/349) /content/video_rua01.mp4: 384x640 8 persons, 3 cars, 1 traffic light, 23.3ms\n",
            "video 1/1 (frame 200/349) /content/video_rua01.mp4: 384x640 9 persons, 3 cars, 23.1ms\n",
            "video 1/1 (frame 201/349) /content/video_rua01.mp4: 384x640 9 persons, 3 cars, 22.4ms\n",
            "video 1/1 (frame 202/349) /content/video_rua01.mp4: 384x640 9 persons, 3 cars, 22.4ms\n",
            "video 1/1 (frame 203/349) /content/video_rua01.mp4: 384x640 9 persons, 3 cars, 22.4ms\n",
            "video 1/1 (frame 204/349) /content/video_rua01.mp4: 384x640 9 persons, 3 cars, 22.4ms\n",
            "video 1/1 (frame 205/349) /content/video_rua01.mp4: 384x640 9 persons, 3 cars, 22.4ms\n",
            "video 1/1 (frame 206/349) /content/video_rua01.mp4: 384x640 8 persons, 3 cars, 22.4ms\n",
            "video 1/1 (frame 207/349) /content/video_rua01.mp4: 384x640 8 persons, 3 cars, 22.4ms\n",
            "video 1/1 (frame 208/349) /content/video_rua01.mp4: 384x640 6 persons, 3 cars, 22.4ms\n",
            "video 1/1 (frame 209/349) /content/video_rua01.mp4: 384x640 8 persons, 3 cars, 22.4ms\n",
            "video 1/1 (frame 210/349) /content/video_rua01.mp4: 384x640 10 persons, 3 cars, 22.4ms\n",
            "video 1/1 (frame 211/349) /content/video_rua01.mp4: 384x640 9 persons, 3 cars, 22.4ms\n",
            "video 1/1 (frame 212/349) /content/video_rua01.mp4: 384x640 10 persons, 2 cars, 22.4ms\n",
            "video 1/1 (frame 213/349) /content/video_rua01.mp4: 384x640 10 persons, 2 cars, 1 handbag, 22.4ms\n",
            "video 1/1 (frame 214/349) /content/video_rua01.mp4: 384x640 8 persons, 2 cars, 22.4ms\n",
            "video 1/1 (frame 215/349) /content/video_rua01.mp4: 384x640 8 persons, 2 cars, 22.4ms\n",
            "video 1/1 (frame 216/349) /content/video_rua01.mp4: 384x640 8 persons, 2 cars, 22.4ms\n",
            "video 1/1 (frame 217/349) /content/video_rua01.mp4: 384x640 8 persons, 2 cars, 22.4ms\n",
            "video 1/1 (frame 218/349) /content/video_rua01.mp4: 384x640 10 persons, 3 cars, 22.4ms\n",
            "video 1/1 (frame 219/349) /content/video_rua01.mp4: 384x640 9 persons, 3 cars, 22.4ms\n",
            "video 1/1 (frame 220/349) /content/video_rua01.mp4: 384x640 9 persons, 3 cars, 22.4ms\n",
            "video 1/1 (frame 221/349) /content/video_rua01.mp4: 384x640 9 persons, 3 cars, 22.4ms\n",
            "video 1/1 (frame 222/349) /content/video_rua01.mp4: 384x640 9 persons, 3 cars, 22.4ms\n",
            "video 1/1 (frame 223/349) /content/video_rua01.mp4: 384x640 8 persons, 4 cars, 22.4ms\n",
            "video 1/1 (frame 224/349) /content/video_rua01.mp4: 384x640 9 persons, 4 cars, 1 handbag, 20.5ms\n",
            "video 1/1 (frame 225/349) /content/video_rua01.mp4: 384x640 9 persons, 4 cars, 1 handbag, 20.5ms\n",
            "video 1/1 (frame 226/349) /content/video_rua01.mp4: 384x640 9 persons, 5 cars, 1 handbag, 20.5ms\n",
            "video 1/1 (frame 227/349) /content/video_rua01.mp4: 384x640 8 persons, 5 cars, 20.5ms\n",
            "video 1/1 (frame 228/349) /content/video_rua01.mp4: 384x640 8 persons, 5 cars, 20.5ms\n",
            "video 1/1 (frame 229/349) /content/video_rua01.mp4: 384x640 8 persons, 5 cars, 1 handbag, 20.5ms\n",
            "video 1/1 (frame 230/349) /content/video_rua01.mp4: 384x640 8 persons, 5 cars, 20.5ms\n",
            "video 1/1 (frame 231/349) /content/video_rua01.mp4: 384x640 8 persons, 5 cars, 20.5ms\n",
            "video 1/1 (frame 232/349) /content/video_rua01.mp4: 384x640 8 persons, 5 cars, 20.5ms\n",
            "video 1/1 (frame 233/349) /content/video_rua01.mp4: 384x640 7 persons, 5 cars, 1 handbag, 20.5ms\n",
            "video 1/1 (frame 234/349) /content/video_rua01.mp4: 384x640 7 persons, 5 cars, 20.5ms\n",
            "video 1/1 (frame 235/349) /content/video_rua01.mp4: 384x640 7 persons, 5 cars, 20.5ms\n",
            "video 1/1 (frame 236/349) /content/video_rua01.mp4: 384x640 7 persons, 5 cars, 20.5ms\n",
            "video 1/1 (frame 237/349) /content/video_rua01.mp4: 384x640 6 persons, 5 cars, 20.5ms\n",
            "video 1/1 (frame 238/349) /content/video_rua01.mp4: 384x640 6 persons, 5 cars, 1 handbag, 20.6ms\n",
            "video 1/1 (frame 239/349) /content/video_rua01.mp4: 384x640 6 persons, 5 cars, 1 handbag, 20.5ms\n",
            "video 1/1 (frame 240/349) /content/video_rua01.mp4: 384x640 7 persons, 4 cars, 20.5ms\n",
            "video 1/1 (frame 241/349) /content/video_rua01.mp4: 384x640 8 persons, 4 cars, 20.5ms\n",
            "video 1/1 (frame 242/349) /content/video_rua01.mp4: 384x640 8 persons, 4 cars, 20.5ms\n",
            "video 1/1 (frame 243/349) /content/video_rua01.mp4: 384x640 9 persons, 4 cars, 20.5ms\n",
            "video 1/1 (frame 244/349) /content/video_rua01.mp4: 384x640 9 persons, 4 cars, 20.5ms\n",
            "video 1/1 (frame 245/349) /content/video_rua01.mp4: 384x640 9 persons, 4 cars, 20.5ms\n",
            "video 1/1 (frame 246/349) /content/video_rua01.mp4: 384x640 8 persons, 4 cars, 20.5ms\n",
            "video 1/1 (frame 247/349) /content/video_rua01.mp4: 384x640 8 persons, 4 cars, 1 handbag, 20.5ms\n",
            "video 1/1 (frame 248/349) /content/video_rua01.mp4: 384x640 9 persons, 3 cars, 1 handbag, 20.6ms\n",
            "video 1/1 (frame 249/349) /content/video_rua01.mp4: 384x640 9 persons, 3 cars, 20.5ms\n",
            "video 1/1 (frame 250/349) /content/video_rua01.mp4: 384x640 9 persons, 3 cars, 20.5ms\n",
            "video 1/1 (frame 251/349) /content/video_rua01.mp4: 384x640 9 persons, 3 cars, 20.5ms\n",
            "video 1/1 (frame 252/349) /content/video_rua01.mp4: 384x640 9 persons, 3 cars, 20.6ms\n",
            "video 1/1 (frame 253/349) /content/video_rua01.mp4: 384x640 11 persons, 3 cars, 20.8ms\n",
            "video 1/1 (frame 254/349) /content/video_rua01.mp4: 384x640 13 persons, 4 cars, 21.6ms\n",
            "video 1/1 (frame 255/349) /content/video_rua01.mp4: 384x640 13 persons, 4 cars, 21.6ms\n",
            "video 1/1 (frame 256/349) /content/video_rua01.mp4: 384x640 13 persons, 3 cars, 21.7ms\n",
            "video 1/1 (frame 257/349) /content/video_rua01.mp4: 384x640 12 persons, 4 cars, 21.6ms\n",
            "video 1/1 (frame 258/349) /content/video_rua01.mp4: 384x640 13 persons, 4 cars, 21.6ms\n",
            "video 1/1 (frame 259/349) /content/video_rua01.mp4: 384x640 12 persons, 3 cars, 21.7ms\n",
            "video 1/1 (frame 260/349) /content/video_rua01.mp4: 384x640 12 persons, 4 cars, 22.0ms\n",
            "video 1/1 (frame 261/349) /content/video_rua01.mp4: 384x640 11 persons, 3 cars, 22.0ms\n",
            "video 1/1 (frame 262/349) /content/video_rua01.mp4: 384x640 11 persons, 4 cars, 22.0ms\n",
            "video 1/1 (frame 263/349) /content/video_rua01.mp4: 384x640 10 persons, 4 cars, 22.0ms\n",
            "video 1/1 (frame 264/349) /content/video_rua01.mp4: 384x640 10 persons, 4 cars, 22.1ms\n",
            "video 1/1 (frame 265/349) /content/video_rua01.mp4: 384x640 10 persons, 4 cars, 22.0ms\n",
            "video 1/1 (frame 266/349) /content/video_rua01.mp4: 384x640 10 persons, 4 cars, 22.3ms\n",
            "video 1/1 (frame 267/349) /content/video_rua01.mp4: 384x640 10 persons, 4 cars, 22.4ms\n",
            "video 1/1 (frame 268/349) /content/video_rua01.mp4: 384x640 10 persons, 4 cars, 22.5ms\n",
            "video 1/1 (frame 269/349) /content/video_rua01.mp4: 384x640 10 persons, 4 cars, 22.5ms\n",
            "video 1/1 (frame 270/349) /content/video_rua01.mp4: 384x640 10 persons, 4 cars, 22.5ms\n",
            "video 1/1 (frame 271/349) /content/video_rua01.mp4: 384x640 10 persons, 4 cars, 22.5ms\n",
            "video 1/1 (frame 272/349) /content/video_rua01.mp4: 384x640 10 persons, 4 cars, 22.4ms\n",
            "video 1/1 (frame 273/349) /content/video_rua01.mp4: 384x640 10 persons, 4 cars, 22.5ms\n",
            "video 1/1 (frame 274/349) /content/video_rua01.mp4: 384x640 10 persons, 4 cars, 22.5ms\n",
            "video 1/1 (frame 275/349) /content/video_rua01.mp4: 384x640 10 persons, 4 cars, 22.4ms\n",
            "video 1/1 (frame 276/349) /content/video_rua01.mp4: 384x640 10 persons, 4 cars, 22.5ms\n",
            "video 1/1 (frame 277/349) /content/video_rua01.mp4: 384x640 10 persons, 4 cars, 22.5ms\n",
            "video 1/1 (frame 278/349) /content/video_rua01.mp4: 384x640 10 persons, 4 cars, 22.4ms\n",
            "video 1/1 (frame 279/349) /content/video_rua01.mp4: 384x640 10 persons, 4 cars, 22.9ms\n",
            "video 1/1 (frame 280/349) /content/video_rua01.mp4: 384x640 10 persons, 4 cars, 22.9ms\n",
            "video 1/1 (frame 281/349) /content/video_rua01.mp4: 384x640 9 persons, 4 cars, 22.9ms\n",
            "video 1/1 (frame 282/349) /content/video_rua01.mp4: 384x640 12 persons, 4 cars, 22.9ms\n",
            "video 1/1 (frame 283/349) /content/video_rua01.mp4: 384x640 11 persons, 4 cars, 22.9ms\n",
            "video 1/1 (frame 284/349) /content/video_rua01.mp4: 384x640 11 persons, 4 cars, 28.5ms\n",
            "video 1/1 (frame 285/349) /content/video_rua01.mp4: 384x640 12 persons, 4 cars, 23.4ms\n",
            "video 1/1 (frame 286/349) /content/video_rua01.mp4: 384x640 11 persons, 4 cars, 23.4ms\n",
            "video 1/1 (frame 287/349) /content/video_rua01.mp4: 384x640 11 persons, 4 cars, 23.3ms\n",
            "video 1/1 (frame 288/349) /content/video_rua01.mp4: 384x640 12 persons, 4 cars, 23.4ms\n",
            "video 1/1 (frame 289/349) /content/video_rua01.mp4: 384x640 12 persons, 4 cars, 23.3ms\n",
            "video 1/1 (frame 290/349) /content/video_rua01.mp4: 384x640 11 persons, 4 cars, 23.3ms\n",
            "video 1/1 (frame 291/349) /content/video_rua01.mp4: 384x640 10 persons, 4 cars, 23.3ms\n",
            "video 1/1 (frame 292/349) /content/video_rua01.mp4: 384x640 11 persons, 4 cars, 23.4ms\n",
            "video 1/1 (frame 293/349) /content/video_rua01.mp4: 384x640 11 persons, 4 cars, 23.3ms\n",
            "video 1/1 (frame 294/349) /content/video_rua01.mp4: 384x640 11 persons, 4 cars, 23.6ms\n",
            "video 1/1 (frame 295/349) /content/video_rua01.mp4: 384x640 10 persons, 4 cars, 23.8ms\n",
            "video 1/1 (frame 296/349) /content/video_rua01.mp4: 384x640 11 persons, 4 cars, 23.9ms\n",
            "video 1/1 (frame 297/349) /content/video_rua01.mp4: 384x640 11 persons, 4 cars, 23.7ms\n",
            "video 1/1 (frame 298/349) /content/video_rua01.mp4: 384x640 11 persons, 5 cars, 23.3ms\n",
            "video 1/1 (frame 299/349) /content/video_rua01.mp4: 384x640 11 persons, 4 cars, 23.3ms\n",
            "video 1/1 (frame 300/349) /content/video_rua01.mp4: 384x640 12 persons, 5 cars, 23.3ms\n",
            "video 1/1 (frame 301/349) /content/video_rua01.mp4: 384x640 12 persons, 5 cars, 23.5ms\n",
            "video 1/1 (frame 302/349) /content/video_rua01.mp4: 384x640 12 persons, 5 cars, 23.3ms\n",
            "video 1/1 (frame 303/349) /content/video_rua01.mp4: 384x640 12 persons, 5 cars, 23.3ms\n",
            "video 1/1 (frame 304/349) /content/video_rua01.mp4: 384x640 11 persons, 6 cars, 23.3ms\n",
            "video 1/1 (frame 305/349) /content/video_rua01.mp4: 384x640 12 persons, 6 cars, 23.3ms\n",
            "video 1/1 (frame 306/349) /content/video_rua01.mp4: 384x640 11 persons, 6 cars, 23.3ms\n",
            "video 1/1 (frame 307/349) /content/video_rua01.mp4: 384x640 11 persons, 5 cars, 23.4ms\n",
            "video 1/1 (frame 308/349) /content/video_rua01.mp4: 384x640 11 persons, 5 cars, 23.4ms\n",
            "video 1/1 (frame 309/349) /content/video_rua01.mp4: 384x640 11 persons, 5 cars, 23.3ms\n",
            "video 1/1 (frame 310/349) /content/video_rua01.mp4: 384x640 11 persons, 5 cars, 23.4ms\n",
            "video 1/1 (frame 311/349) /content/video_rua01.mp4: 384x640 10 persons, 6 cars, 23.4ms\n",
            "video 1/1 (frame 312/349) /content/video_rua01.mp4: 384x640 10 persons, 6 cars, 23.3ms\n",
            "video 1/1 (frame 313/349) /content/video_rua01.mp4: 384x640 10 persons, 6 cars, 23.4ms\n",
            "video 1/1 (frame 314/349) /content/video_rua01.mp4: 384x640 10 persons, 5 cars, 23.3ms\n",
            "video 1/1 (frame 315/349) /content/video_rua01.mp4: 384x640 9 persons, 6 cars, 23.3ms\n",
            "video 1/1 (frame 316/349) /content/video_rua01.mp4: 384x640 9 persons, 6 cars, 23.3ms\n",
            "video 1/1 (frame 317/349) /content/video_rua01.mp4: 384x640 8 persons, 6 cars, 23.4ms\n",
            "video 1/1 (frame 318/349) /content/video_rua01.mp4: 384x640 8 persons, 6 cars, 23.4ms\n",
            "video 1/1 (frame 319/349) /content/video_rua01.mp4: 384x640 8 persons, 6 cars, 1 traffic light, 23.4ms\n",
            "video 1/1 (frame 320/349) /content/video_rua01.mp4: 384x640 8 persons, 6 cars, 1 traffic light, 23.3ms\n",
            "video 1/1 (frame 321/349) /content/video_rua01.mp4: 384x640 8 persons, 6 cars, 23.4ms\n",
            "video 1/1 (frame 322/349) /content/video_rua01.mp4: 384x640 9 persons, 6 cars, 23.4ms\n",
            "video 1/1 (frame 323/349) /content/video_rua01.mp4: 384x640 9 persons, 6 cars, 23.3ms\n",
            "video 1/1 (frame 324/349) /content/video_rua01.mp4: 384x640 9 persons, 6 cars, 23.3ms\n",
            "video 1/1 (frame 325/349) /content/video_rua01.mp4: 384x640 9 persons, 6 cars, 23.3ms\n",
            "video 1/1 (frame 326/349) /content/video_rua01.mp4: 384x640 9 persons, 6 cars, 22.4ms\n",
            "video 1/1 (frame 327/349) /content/video_rua01.mp4: 384x640 9 persons, 6 cars, 22.4ms\n",
            "video 1/1 (frame 328/349) /content/video_rua01.mp4: 384x640 9 persons, 6 cars, 22.5ms\n",
            "video 1/1 (frame 329/349) /content/video_rua01.mp4: 384x640 10 persons, 6 cars, 22.5ms\n",
            "video 1/1 (frame 330/349) /content/video_rua01.mp4: 384x640 10 persons, 6 cars, 22.4ms\n",
            "video 1/1 (frame 331/349) /content/video_rua01.mp4: 384x640 10 persons, 6 cars, 22.4ms\n",
            "video 1/1 (frame 332/349) /content/video_rua01.mp4: 384x640 10 persons, 6 cars, 22.5ms\n",
            "video 1/1 (frame 333/349) /content/video_rua01.mp4: 384x640 10 persons, 6 cars, 22.4ms\n",
            "video 1/1 (frame 334/349) /content/video_rua01.mp4: 384x640 10 persons, 6 cars, 22.4ms\n",
            "video 1/1 (frame 335/349) /content/video_rua01.mp4: 384x640 10 persons, 6 cars, 1 handbag, 22.4ms\n",
            "video 1/1 (frame 336/349) /content/video_rua01.mp4: 384x640 9 persons, 6 cars, 22.5ms\n",
            "video 1/1 (frame 337/349) /content/video_rua01.mp4: 384x640 9 persons, 6 cars, 22.4ms\n",
            "video 1/1 (frame 338/349) /content/video_rua01.mp4: 384x640 9 persons, 6 cars, 1 handbag, 22.4ms\n",
            "video 1/1 (frame 339/349) /content/video_rua01.mp4: 384x640 8 persons, 6 cars, 22.5ms\n",
            "video 1/1 (frame 340/349) /content/video_rua01.mp4: 384x640 8 persons, 6 cars, 22.4ms\n",
            "video 1/1 (frame 341/349) /content/video_rua01.mp4: 384x640 8 persons, 6 cars, 22.4ms\n",
            "video 1/1 (frame 342/349) /content/video_rua01.mp4: 384x640 8 persons, 6 cars, 22.4ms\n",
            "video 1/1 (frame 343/349) /content/video_rua01.mp4: 384x640 9 persons, 6 cars, 23.1ms\n",
            "video 1/1 (frame 344/349) /content/video_rua01.mp4: 384x640 9 persons, 6 cars, 22.5ms\n",
            "video 1/1 (frame 345/349) /content/video_rua01.mp4: 384x640 9 persons, 6 cars, 22.4ms\n",
            "video 1/1 (frame 346/349) /content/video_rua01.mp4: 384x640 9 persons, 6 cars, 22.5ms\n",
            "video 1/1 (frame 347/349) /content/video_rua01.mp4: 384x640 10 persons, 6 cars, 22.4ms\n",
            "video 1/1 (frame 348/349) /content/video_rua01.mp4: 384x640 10 persons, 6 cars, 22.4ms\n",
            "video 1/1 (frame 349/349) /content/video_rua01.mp4: 384x640 9 persons, 6 cars, 22.4ms\n",
            "Speed: 3.2ms preprocess, 22.2ms inference, 4.0ms postprocess per image at shape (1, 3, 384, 640)\n",
            "Results saved to \u001b[1mruns/detect/predict\u001b[0m\n",
            "💡 Learn more at https://docs.ultralytics.com/modes/predict\n"
          ]
        }
      ],
      "source": [
        "!yolo task=detect mode=predict model=yolov8m.pt conf=0.5 source='/content/video_rua01.mp4' save=true"
      ]
    },
    {
      "cell_type": "code",
      "execution_count": null,
      "id": "5ead05d6",
      "metadata": {
        "colab": {
          "base_uri": "https://localhost:8080/"
        },
        "id": "5ead05d6",
        "outputId": "9624c18f-f921-4b00-ee1d-7357bf9ed596"
      },
      "outputs": [
        {
          "data": {
            "text/plain": [
              "0"
            ]
          },
          "execution_count": 7,
          "metadata": {},
          "output_type": "execute_result"
        }
      ],
      "source": [
        "import os\n",
        "video_salvo = '/content/runs/detect/predict/video_rua01.avi'\n",
        "video_final = '/content/video_pessoas01_resultado.mp4'\n",
        "os.system(f\"ffmpeg -i {video_salvo} -vcodec libx264 {video_final}\")"
      ]
    },
    {
      "cell_type": "code",
      "execution_count": null,
      "id": "81dd69e3",
      "metadata": {
        "id": "81dd69e3"
      },
      "outputs": [],
      "source": [
        "from IPython.display import Video\n",
        "\n",
        "# Caminhos dos arquivos\n",
        "video_salvo = '/content/runs/detect/predict/video_rua01.avi'\n",
        "video_final = '/content/video_pessoas01_resultado.mp4'\n",
        "\n",
        "# Converter para MP4 (melhor compatibilidade)\n",
        "!ffmpeg -i $video_salvo -vcodec libx264 $video_final -y\n",
        "\n",
        "# Exibir diretamente no notebook\n",
        "Video(video_final, embed=True, width=500)\n"
      ]
    },
    {
      "cell_type": "code",
      "execution_count": null,
      "id": "cdf3efef",
      "metadata": {
        "id": "cdf3efef"
      },
      "outputs": [],
      "source": [
        "from IPython.display import Video\n",
        "\n",
        "# Caminhos dos arquivos\n",
        "video_salvo = '/content/runs/detect/predict/video_rua01.avi'\n",
        "video_final = '/content/video_pessoas01_resultado.mp4'\n",
        "\n",
        "# Converter para MP4 (melhor compatibilidade)\n",
        "!ffmpeg -i $video_salvo -vcodec libx264 $video_final -y\n",
        "\n",
        "# Exibir diretamente no notebook\n",
        "Video(video_final, embed=True, width=500)\n"
      ]
    },
    {
      "cell_type": "code",
      "execution_count": null,
      "id": "37adb444",
      "metadata": {
        "id": "37adb444"
      },
      "outputs": [],
      "source": [
        "# Instalando a biblioteca do YOLOv8\n",
        "!pip install ultralytics"
      ]
    },
    {
      "cell_type": "code",
      "execution_count": null,
      "id": "768b73e1",
      "metadata": {
        "id": "768b73e1"
      },
      "outputs": [],
      "source": [
        "# Importando o pacote ultralytics\n",
        "import ultralytics"
      ]
    },
    {
      "cell_type": "code",
      "execution_count": null,
      "id": "aedbd056",
      "metadata": {
        "id": "aedbd056"
      },
      "outputs": [],
      "source": [
        "# Importando as demais bibliotecas\n",
        "import cv2\n",
        "import matplotlib.pyplot as plt\n",
        "import os\n",
        "from PIL import Image\n",
        "from google.colab.patches import cv2_imshow"
      ]
    },
    {
      "cell_type": "code",
      "execution_count": null,
      "id": "7705b462",
      "metadata": {
        "id": "7705b462"
      },
      "outputs": [],
      "source": [
        "!yolo task=segment mode=predict model=yolov8m-seg.pt conf=0.5 source='/content/video_rua01.mp4' save=True"
      ]
    },
    {
      "cell_type": "code",
      "execution_count": null,
      "id": "661d88a6",
      "metadata": {
        "id": "661d88a6"
      },
      "outputs": [],
      "source": [
        "video_salvo = \"/content/runs/segment/predict/video_rua01.mp4\"\n",
        "video_final = \"/content/segmentacao_rua01.mp4\"\n",
        "\n",
        "os.system(f\"ffmpeg -i {video_salvo} -vcodec libx264 {video_final}\")"
      ]
    },
    {
      "cell_type": "code",
      "execution_count": null,
      "id": "e6e4c09a",
      "metadata": {
        "id": "e6e4c09a"
      },
      "outputs": [],
      "source": [
        "from IPython.display import Video\n",
        "\n",
        "# Caminhos dos arquivos\n",
        "video_salvo = '/content/runs/detect/predict/video_rua01.avi'\n",
        "video_final = '/content/video_pessoas01_resultado.mp4'\n",
        "\n",
        "# Converter para MP4 (melhor compatibilidade)\n",
        "!ffmpeg -i $video_salvo -vcodec libx264 $video_final -y\n",
        "\n",
        "# Exibir diretamente no notebook\n",
        "Video(video_final, embed=True, width=500)\n"
      ]
    },
    {
      "cell_type": "code",
      "execution_count": null,
      "id": "60a0a274",
      "metadata": {
        "id": "60a0a274"
      },
      "outputs": [],
      "source": [
        "from IPython.display import Video\n",
        "\n",
        "# Caminhos dos arquivos\n",
        "video_salvo = '/content/runs/detect/predict/video_rua01.avi'\n",
        "video_final = '/content/video_pessoas01_resultado.mp4'\n",
        "\n",
        "# Converter para MP4 (melhor compatibilidade)\n",
        "!ffmpeg -i $video_salvo -vcodec libx264 $video_final -y\n",
        "\n",
        "# Exibir diretamente no notebook\n",
        "Video(video_final, embed=True, width=500)\n"
      ]
    },
    {
      "cell_type": "code",
      "execution_count": null,
      "id": "a6dda76f",
      "metadata": {
        "id": "a6dda76f"
      },
      "outputs": [],
      "source": []
    }
  ],
  "metadata": {
    "colab": {
      "provenance": [],
      "include_colab_link": true
    }
  },
  "nbformat": 4,
  "nbformat_minor": 5
}