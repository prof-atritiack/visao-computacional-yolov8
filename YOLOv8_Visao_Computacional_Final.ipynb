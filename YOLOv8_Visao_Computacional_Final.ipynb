{
  "cells": [
    {
      "cell_type": "markdown",
      "metadata": {
        "id": "view-in-github",
        "colab_type": "text"
      },
      "source": [
        "<a href=\"https://colab.research.google.com/github/prof-atritiack/visao-computacional-yolov8/blob/main/YOLOv8_Visao_Computacional_Final.ipynb\" target=\"_parent\"><img src=\"https://colab.research.google.com/assets/colab-badge.svg\" alt=\"Open In Colab\"/></a>"
      ]
    },
    {
      "cell_type": "markdown",
      "id": "fd3751b8",
      "metadata": {
        "id": "fd3751b8"
      },
      "source": [
        "\n",
        "# **YOLOv8 - Detecção e Segmentação de Objetos**\n",
        "\n",
        "Este notebook reúne em um único arquivo os exemplos práticos de uso do **YOLOv8 (Ultralytics)**:\n",
        "\n",
        "1. **Primeiros Testes com YOLOv8**  \n",
        "2. **Segmentação em Imagens**  \n",
        "3. **Detecção de Objetos em Vídeos**  \n",
        "4. **Segmentação em Vídeos**  \n",
        "\n",
        "⚠️ **Observações**  \n",
        "- Verifique se as imagens e vídeos de teste estão corretamente carregados.  \n",
        "- Se estiver utilizando o Google Colab, habilite a GPU para melhor desempenho.  \n"
      ]
    },
    {
      "cell_type": "code",
      "execution_count": null,
      "id": "16eafd39",
      "metadata": {
        "id": "16eafd39"
      },
      "outputs": [],
      "source": [
        "# Instalação das dependências principais\n",
        "!pip install ultralytics opencv-python torch matplotlib"
      ]
    },
    {
      "cell_type": "code",
      "execution_count": null,
      "id": "5259366f",
      "metadata": {
        "id": "5259366f"
      },
      "outputs": [],
      "source": [
        "# Importação de bibliotecas\n",
        "from IPython.display import HTML\n",
        "from PIL import Image\n",
        "from google.colab.patches import cv2_imshow\n",
        "import cv2\n",
        "import matplotlib.pyplot as plt\n",
        "import os\n",
        "import torch\n",
        "import ultralytics"
      ]
    },
    {
      "cell_type": "code",
      "execution_count": null,
      "id": "56d2afa7",
      "metadata": {
        "id": "56d2afa7"
      },
      "outputs": [],
      "source": [
        "# Utilitário para exibir vídeos no notebook (sem base64)\n",
        "from IPython.display import Video as _IPyVideo\n",
        "def mostrar_video(caminho, largura=640):\n",
        "    return _IPyVideo(caminho, embed=True, width=largura)"
      ]
    },
    {
      "cell_type": "markdown",
      "id": "22b0e052",
      "metadata": {
        "id": "22b0e052"
      },
      "source": [
        "# **1. Primeiros Testes com YOLOv8**"
      ]
    },
    {
      "cell_type": "markdown",
      "id": "e1efc52b",
      "metadata": {
        "id": "e1efc52b"
      },
      "source": [
        "**YOLOv8** é um novo modelo de visão computacional de última geração construído pela Ultralytics. O modelo YOLOv8 contém suporte pronto para uso para tarefas de detecção, classificação e segmentação de objetos, acessível por meio de um pacote Python, bem como uma interface de linha de comando.\n",
        "\n",
        "Fonte: https://yolov8.com/\n",
        "\n",
        "\n",
        "\n",
        "Documentação e modelos do YOLOv8:\n",
        "\n",
        "https://github.com/ultralytics/ultralytics\n",
        "\n",
        "\n",
        "\n",
        "Sugestão de leitura:\n",
        "\n",
        "https://iaexpert.academy/2020/10/13/deteccao-de-objetos-com-yolo-uma-abordagem-moderna/?doing_wp_cron=1696367994.9827990531921386718750"
      ]
    },
    {
      "cell_type": "markdown",
      "id": "5b3d5b98",
      "metadata": {
        "id": "5b3d5b98"
      },
      "source": [
        "Instalação dos pacotes e das bibliotecas do YOLOv8"
      ]
    },
    {
      "cell_type": "markdown",
      "id": "53f64db3",
      "metadata": {
        "id": "53f64db3"
      },
      "source": [
        "## Realizando a detecção\n",
        "\n",
        "A forma mais rápida de executar a deteçcão é através da CLI, conforme pode ver abaixo a sintaxe.\n",
        "\n",
        "Os parâmetros:\n",
        "* **task** - tarefa, podendo ser detecção, segmentação ou classificação\n",
        "* **model** - o modelo que queremos usar. São disponibilizados 5 modelos: YOLOv8n (nano), YOLOv8s (small), YOLOv8m (medium), YOLOv8l (large), YOLOv8x (extra large). Nano é o mais rápido e o menor (menos pesado para rodar), enquanto que o Extra Large (YOLOv8x) é o mais preciso porém mais pesado para rodar, portanto será mais lento.\n",
        "  Para o valor desse parâmetro, basta informar o nome e ao lado .pt pois é a extensão do modelo treinado em pytorch.\n",
        "\n",
        "* **mode** - basicamente é o que queremos com o comando. Queremos fazer a detecção/inferência/predição, portanto deixe =predict. Valores aceitos: [train, val, predict, export]\n",
        "\n",
        "* **conf** - o limiar (threshold) que usaremos para filtrar detecções \"fracas\". Se a confiança estiver abaixo desse valor, não será considerada. Por padrão podemos configurar com um limiar bem baixo (ex: 0.25) e depois aumentar, caso verifique que detectou incorretamente algum objeto.  \n",
        "* **source** - a imagem ou vídeo que queremos fazer a detecção."
      ]
    },
    {
      "cell_type": "code",
      "execution_count": null,
      "id": "f845645b",
      "metadata": {
        "id": "f845645b"
      },
      "outputs": [],
      "source": [
        "!yolo task=detect mode=predict model=yolov8n.pt conf=0.25 source='' save=True"
      ]
    },
    {
      "cell_type": "markdown",
      "id": "9d7bc8dc",
      "metadata": {
        "id": "9d7bc8dc"
      },
      "source": [
        "**Importante:**\n",
        "- Observe na saída da célula acima que o resultado da detecção será salvo na pasta 'runs/detect/predict/'\n",
        "- Atenção ao número do 'predict' gerado para passar corretamente o nome na célula abaixo."
      ]
    },
    {
      "cell_type": "code",
      "execution_count": null,
      "id": "dcfa6073",
      "metadata": {
        "id": "dcfa6073"
      },
      "outputs": [],
      "source": [
        "resultado = cv2.imread('')\n",
        "cv2_imshow(resultado)"
      ]
    },
    {
      "cell_type": "code",
      "execution_count": null,
      "id": "0e81bb5b",
      "metadata": {
        "id": "0e81bb5b"
      },
      "outputs": [],
      "source": [
        "# Detecção a partir de arquivo externo:\n",
        "!yolo task=detect mode=predict model=yolov8n.pt conf=0.25 source='https://ultralytics.com/images/zidane.jpg' save=True"
      ]
    },
    {
      "cell_type": "code",
      "execution_count": null,
      "id": "7a1c4641",
      "metadata": {
        "id": "7a1c4641"
      },
      "outputs": [],
      "source": [
        "resultado = cv2.imread('')\n",
        "cv2_imshow(resultado)"
      ]
    },
    {
      "cell_type": "code",
      "execution_count": null,
      "id": "6fd66009",
      "metadata": {
        "id": "6fd66009"
      },
      "outputs": [],
      "source": [
        "!yolo task=detect mode=predict model=yolov8n.pt conf=0.4 source='' save=True"
      ]
    },
    {
      "cell_type": "code",
      "execution_count": null,
      "id": "ec65e1ba",
      "metadata": {
        "id": "ec65e1ba"
      },
      "outputs": [],
      "source": [
        "resultado = cv2.imread('')\n",
        "cv2_imshow(resultado)"
      ]
    },
    {
      "cell_type": "code",
      "execution_count": null,
      "id": "601c6452",
      "metadata": {
        "id": "601c6452"
      },
      "outputs": [],
      "source": [
        "!yolo task=detect mode=predict model=yolov8n.pt conf=0.57 source='italia.jpg' save=True"
      ]
    },
    {
      "cell_type": "code",
      "execution_count": null,
      "id": "745db39b",
      "metadata": {
        "id": "745db39b"
      },
      "outputs": [],
      "source": [
        "resultado = cv2.imread('')\n",
        "cv2_imshow(resultado)"
      ]
    },
    {
      "cell_type": "markdown",
      "id": "44c5f5b9",
      "metadata": {
        "id": "44c5f5b9"
      },
      "source": [
        "# **2. Segmentação em Imagens**"
      ]
    },
    {
      "cell_type": "markdown",
      "id": "9e92a72d",
      "metadata": {
        "id": "9e92a72d"
      },
      "source": [
        "Segmentação de Imagens"
      ]
    },
    {
      "cell_type": "code",
      "execution_count": null,
      "id": "d98164ce",
      "metadata": {
        "id": "d98164ce"
      },
      "outputs": [],
      "source": [
        "!yolo task=segment mode=predict model=yolov8m-seg.pt conf=0.5 source='' save=True"
      ]
    },
    {
      "cell_type": "code",
      "execution_count": null,
      "id": "201dc949",
      "metadata": {
        "id": "201dc949"
      },
      "outputs": [],
      "source": [
        "resultado = cv2.imread('')\n",
        "cv2_imshow(resultado)"
      ]
    },
    {
      "cell_type": "markdown",
      "id": "b9cbae82",
      "metadata": {
        "id": "b9cbae82"
      },
      "source": [
        "# **3. Detecção de Objetos em Vídeos**"
      ]
    },
    {
      "cell_type": "markdown",
      "id": "abb7f66d",
      "metadata": {
        "id": "abb7f66d"
      },
      "source": [
        "Detecção em vídeos (CLI)"
      ]
    },
    {
      "cell_type": "code",
      "execution_count": null,
      "id": "2ee1bfc6",
      "metadata": {
        "id": "2ee1bfc6"
      },
      "outputs": [],
      "source": [
        "!yolo task=detect mode=predict model=yolov8m.pt conf=0.5 source='/content/video_rua01.mp4' save=true"
      ]
    },
    {
      "cell_type": "code",
      "execution_count": null,
      "id": "536557e8",
      "metadata": {
        "id": "536557e8"
      },
      "outputs": [],
      "source": [
        "video_salvo = '' # previsão\n",
        "video_final = '' # resultado para visualização\n",
        "os.system(f\"ffmpeg -i {video_salvo} -vcodec libx264 {video_final}\")"
      ]
    },
    {
      "cell_type": "code",
      "execution_count": null,
      "id": "8ccb0789",
      "metadata": {
        "id": "8ccb0789"
      },
      "outputs": [],
      "source": [
        "mostrar_video(video_final)"
      ]
    },
    {
      "cell_type": "markdown",
      "id": "ca045ab3",
      "metadata": {
        "id": "ca045ab3"
      },
      "source": [
        "# **4. Segmentação em Vídeos**"
      ]
    },
    {
      "cell_type": "code",
      "execution_count": null,
      "id": "17e92fa0",
      "metadata": {
        "id": "17e92fa0"
      },
      "outputs": [],
      "source": [
        "!yolo task=segment mode=predict model=yolov8m-seg.pt conf=0.5 source='/content/video_rua01.mp4' save=True"
      ]
    },
    {
      "cell_type": "code",
      "execution_count": null,
      "id": "ae7622ba",
      "metadata": {
        "id": "ae7622ba"
      },
      "outputs": [],
      "source": [
        "video_salvo = '' # previsão\n",
        "video_final = '' # resultado para visualização\n",
        "os.system(f\"ffmpeg -i {video_salvo} -vcodec libx264 {video_final}\")"
      ]
    },
    {
      "cell_type": "code",
      "execution_count": null,
      "id": "a6e29057",
      "metadata": {
        "id": "a6e29057"
      },
      "outputs": [],
      "source": [
        "mostrar_video(video_final)"
      ]
    }
  ],
  "metadata": {
    "colab": {
      "provenance": [],
      "gpuType": "T4",
      "include_colab_link": true
    },
    "language_info": {
      "name": "python"
    },
    "kernelspec": {
      "name": "python3",
      "display_name": "Python 3"
    },
    "accelerator": "GPU"
  },
  "nbformat": 4,
  "nbformat_minor": 5
}